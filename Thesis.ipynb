{
 "cells": [
  {
   "cell_type": "code",
   "execution_count": 1,
   "metadata": {},
   "outputs": [
    {
     "name": "stdout",
     "output_type": "stream",
     "text": [
      "pygame 1.9.4\n",
      "Hello from the pygame community. https://www.pygame.org/contribute.html\n"
     ]
    }
   ],
   "source": [
    "import pygame, sys\n",
    "from pygame.locals import *\n",
    "\n",
    "#Sources\n",
    "#http://usingpython.com/pygame-intro/\n",
    "#https://pythonprogramming.net/pygame-python-3-part-1-intro/\n",
    "\n"
   ]
  },
  {
   "cell_type": "code",
   "execution_count": 2,
   "metadata": {},
   "outputs": [],
   "source": [
    "#Constants Box\n",
    "width= 800\n",
    "height =600\n",
    "title=\"Title\"\n",
    "white = (255,255,255)\n",
    "black = (0,0,0)\n",
    "red = (255,0,0)\n",
    "green =(0,255,0)\n",
    "lime_green=(50,205,50)\n",
    "button_width=100\n",
    "button_height=60\n",
    "button_x=20\n",
    "button_y=20\n",
    "go_button= button_x,button_y,button_width,button_height\n",
    "stop_button=button_x+button_width+10,button_y,button_width,button_height\n",
    "\n"
   ]
  },
  {
   "cell_type": "code",
   "execution_count": 3,
   "metadata": {},
   "outputs": [],
   "source": [
    "def text_objects(text, font):\n",
    "    textSurface = font.render(text, True, black)\n",
    "    return textSurface, textSurface.get_rect()\n"
   ]
  },
  {
   "cell_type": "code",
   "execution_count": 4,
   "metadata": {},
   "outputs": [],
   "source": [
    "\n",
    "pygame.init()\n",
    "\n",
    "\n",
    "#Text Font\n",
    "smallText = pygame.font.Font(\"freesansbold.ttf\",20)\n",
    "\n",
    "def draw_go_button(color):\n",
    "  \n",
    "    #Button\n",
    "    pygame.draw.rect(Display, color,(go_button))\n",
    "    \n",
    "    #Go text (after button bc we draw it on top)\n",
    "    textSurf, textRect = text_objects(\"GO!\", smallText)\n",
    "    textRect.center = ( (button_x+(button_width/2)), (button_y+(button_height/2)) )\n",
    "    Display.blit(textSurf, textRect)\n",
    "    \n",
    "\n",
    "    \n",
    "def draw_stop_button():\n",
    "    #Button\n",
    "    pygame.draw.rect(Display, red,(stop_button))\n",
    "    \n",
    "    #Stop text\n",
    "    textSurf, textRect = text_objects(\"Stop!\", smallText)\n",
    "    textRect.center = ( (button_x+button_width+10+(button_width/2)), (button_y+(button_height/2)) )\n",
    "    Display.blit(textSurf, textRect)\n",
    "    \n",
    "    "
   ]
  },
  {
   "cell_type": "code",
   "execution_count": 5,
   "metadata": {},
   "outputs": [
    {
     "ename": "SystemExit",
     "evalue": "",
     "output_type": "error",
     "traceback": [
      "An exception has occurred, use %tb to see the full traceback.\n",
      "\u001b[1;31mSystemExit\u001b[0m\n"
     ]
    },
    {
     "name": "stderr",
     "output_type": "stream",
     "text": [
      "C:\\Users\\Henning\\Anaconda3\\lib\\site-packages\\IPython\\core\\interactiveshell.py:2971: UserWarning: To exit: use 'exit', 'quit', or Ctrl-D.\n",
      "  warn(\"To exit: use 'exit', 'quit', or Ctrl-D.\", stacklevel=1)\n"
     ]
    }
   ],
   "source": [
    "\n",
    "Display = pygame.display.set_mode((width,height))\n",
    "\n",
    "pygame.display.set_caption(title)\n",
    "\n",
    "while True:\n",
    "    for event in pygame.event.get():\n",
    "        if event.type == QUIT:\n",
    "            pygame.display.quit()\n",
    "            pygame.quit()\n",
    "            sys.exit()\n",
    "            \n",
    "            \n",
    "    Display.fill(white)\n",
    "\n",
    "    \n",
    "    \n",
    "   \n",
    "    #get mouse position\n",
    "    mouse = pygame.mouse.get_pos()\n",
    "        \n",
    "    #check if the mouse is above the GO button\n",
    "    if button_width+button_x > mouse[0] > button_x and button_height+button_y > mouse[1] > button_y:\n",
    "        #pygame.draw.rect(Display, lime_green,(go_button))\n",
    "           \n",
    "        #Check if mouse is clicked\n",
    "        if event.type == pygame.MOUSEBUTTONUP:\n",
    "            draw_go_button(lime_green)\n",
    "            pygame.display.update()\n",
    "            \n",
    "    else:\n",
    "        #Draw GO button\n",
    "        #pygame.draw.rect(Display, green,(go_button))\n",
    "\n",
    "        draw_go_button(green)\n",
    "        draw_stop_button()\n",
    "        \n",
    "        #Draw Stop button\n",
    "        #pygame.draw.rect(Display, red,(stop_button))\n",
    "\n",
    "        #Go text\n",
    "        #textSurf, textRect = text_objects(\"GO!\", smallText)\n",
    "        #textRect.center = ( (button_x+(button_width/2)), (button_y+(button_height/2)) )\n",
    "        #Display.blit(textSurf, textRect)\n",
    "\n",
    "        #Stop \n",
    "        #textSurf, textRect = text_objects(\"Stop!\", smallText)\n",
    "        #textRect.center = ( (button_x+button_width+10+(button_width/2)), (button_y+(button_height/2)) )\n",
    "        #Display.blit(textSurf, textRect)\n",
    "    \n",
    "        pygame.display.update()"
   ]
  },
  {
   "cell_type": "code",
   "execution_count": null,
   "metadata": {},
   "outputs": [],
   "source": []
  }
 ],
 "metadata": {
  "kernelspec": {
   "display_name": "Python 3",
   "language": "python",
   "name": "python3"
  },
  "language_info": {
   "codemirror_mode": {
    "name": "ipython",
    "version": 3
   },
   "file_extension": ".py",
   "mimetype": "text/x-python",
   "name": "python",
   "nbconvert_exporter": "python",
   "pygments_lexer": "ipython3",
   "version": "3.6.5"
  }
 },
 "nbformat": 4,
 "nbformat_minor": 2
}
